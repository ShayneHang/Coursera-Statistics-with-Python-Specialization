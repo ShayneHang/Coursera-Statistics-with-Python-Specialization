{
 "cells": [
  {
   "cell_type": "markdown",
   "metadata": {},
   "source": [
    "# Statistics with Python Specialization"
   ]
  },
  {
   "cell_type": "markdown",
   "metadata": {},
   "source": [
    "### NHANES\n",
    "[NHANES 2015-2016](https://wwwn.cdc.gov/nchs/nhanes/continuousnhanes/default.aspx?BeginYear=2015) dataset will be used to explore statistical inference methods taught in the course.\n",
    "\n",
    "[National Health and Nurtrition Examination Survey (NHANES)](https://www.cdc.gov/nchs/nhanes/about_nhanes.htm) is a program of studies designed to assess the health and nutritional status of adults and children in the United States. The survey is unique in that it combines interviews and physical examinations. NHANES is a major program of the National Center for Health Statistics (NCHS). NCHS is part of the Centers for Disease Control and Prevention (CDC) and has the responsibility for producing vital and health statistics for the Nation. "
   ]
  },
  {
   "cell_type": "markdown",
   "metadata": {},
   "source": [
    "### Libraries for assessment\n",
    "\n"
   ]
  },
  {
   "cell_type": "code",
   "execution_count": 13,
   "metadata": {},
   "outputs": [],
   "source": [
    "import numpy as np                  # maths function\n",
    "import pandas as pd                 # dataframe\n",
    "%matplotlib inline \n",
    "import matplotlib.pyplot as plt     # plots\n",
    "import seaborn as sns               # plotting on top of matplot\n",
    "import statsmodels.api as sm        # maths function\n",
    "from statsmodels.distributions.empirical_distribution import ECDF \n",
    "import scipy.stats as stats         # maths function\n",
    "import scipy.stats.distributions as dist\n",
    "from scipy.stats.distributions import norm \n",
    "from scipy.stats import t\n",
    "import random"
   ]
  },
  {
   "cell_type": "markdown",
   "metadata": {},
   "source": [
    "### Data Preparation"
   ]
  },
  {
   "cell_type": "code",
   "execution_count": 53,
   "metadata": {},
   "outputs": [
    {
     "name": "stdout",
     "output_type": "stream",
     "text": [
      "<class 'pandas.core.frame.DataFrame'>\n",
      "RangeIndex: 5735 entries, 0 to 5734\n",
      "Data columns (total 28 columns):\n",
      " #   Column    Non-Null Count  Dtype  \n",
      "---  ------    --------------  -----  \n",
      " 0   SEQN      5735 non-null   int64  \n",
      " 1   ALQ101    5208 non-null   float64\n",
      " 2   ALQ110    1731 non-null   float64\n",
      " 3   ALQ130    3379 non-null   float64\n",
      " 4   SMQ020    5735 non-null   int64  \n",
      " 5   RIAGENDR  5735 non-null   int64  \n",
      " 6   RIDAGEYR  5735 non-null   int64  \n",
      " 7   RIDRETH1  5735 non-null   int64  \n",
      " 8   DMDCITZN  5734 non-null   float64\n",
      " 9   DMDEDUC2  5474 non-null   float64\n",
      " 10  DMDMARTL  5474 non-null   float64\n",
      " 11  DMDHHSIZ  5735 non-null   int64  \n",
      " 12  WTINT2YR  5735 non-null   float64\n",
      " 13  SDMVPSU   5735 non-null   int64  \n",
      " 14  SDMVSTRA  5735 non-null   int64  \n",
      " 15  INDFMPIR  5134 non-null   float64\n",
      " 16  BPXSY1    5401 non-null   float64\n",
      " 17  BPXDI1    5401 non-null   float64\n",
      " 18  BPXSY2    5535 non-null   float64\n",
      " 19  BPXDI2    5535 non-null   float64\n",
      " 20  BMXWT     5666 non-null   float64\n",
      " 21  BMXHT     5673 non-null   float64\n",
      " 22  BMXBMI    5662 non-null   float64\n",
      " 23  BMXLEG    5345 non-null   float64\n",
      " 24  BMXARML   5427 non-null   float64\n",
      " 25  BMXARMC   5427 non-null   float64\n",
      " 26  BMXWAIST  5368 non-null   float64\n",
      " 27  HIQ210    4732 non-null   float64\n",
      "dtypes: float64(20), int64(8)\n",
      "memory usage: 1.2 MB\n",
      "None\n"
     ]
    }
   ],
   "source": [
    "pd.set_option('display.max_columns', 100)\n",
    "\n",
    "df = pd.read_csv(r'D:\\User\\Courses\\4 Statistics with Python Specialization coursera\\capstone\\nhanes_2015_2016.csv')\n",
    "\n",
    "# df.shape # (5735, 28)\n",
    "\n",
    "print(df.info())"
   ]
  },
  {
   "cell_type": "markdown",
   "metadata": {},
   "source": [
    "According to the [Data, Documentation, Codebooks](https://wwwn.cdc.gov/nchs/nhanes/continuousnhanes/default.aspx?BeginYear=2015) of respective data variable list, below are the metadata to each columns\n",
    "- SEQN = Respondent sequence number\n",
    "- ALQ101 = Alcohol use in any one year, had at least 12 drinks of any type of alcoholic beverage? \n",
    "- ALQ110 = Alcohol use in entire lifetime, had at least 12 drinks of any type of alcoholic beverage? \n",
    "- ALQ130 = Alcohol use in past 12 months, on those days that you drank alcoholic beverages, on the average, how many drinks did you have? \n",
    "- SMQ020 = Have you smoked at least 100 cigarettes in your entire life?\n",
    "- RIAGENDR = Gender\n",
    "- RIDRETH1 = Ethnicity\n",
    "- DMDCITZN = Citizenship\n",
    "- DMDEDUC2 = Education level\n",
    "- DMDMARTL = Marital status\n",
    "- DMDHHSIZ = No. of pax in household\n",
    "- WTINT2YR = Full sample 2 year interview weight\n",
    "- SDMVPSU = Masked variance unit pseudo-PSU variable for variance estimation\n",
    "- SDMVSTRA = Masked variance unit pseudo-stratum variable for variance estimation\n",
    "- INDFMPIR = A ratio of family income to poverty guidelines\n",
    "- BPXSY1 = Systolic: Blood pressure (first reading) mm Hg\n",
    "- BPXDI1 = Diastolic: Blood pressure (first reading) mm Hg\n",
    "- BPXSY2 = Systolic: Blood pressure (second reading) mm Hg\n",
    "- BPXDI2 = Diastolic: Blood pressure (second reading) mm Hg\n",
    "- BMXWT = Weight(kg)\n",
    "- BMXHT = Height(cm)\n",
    "- BMXBMI = BMI\n",
    "- BMXLEG = Upper Leg Length (cm)\n",
    "- BMXARML = Upper Arm Length (cm)\n",
    "- BMXARMC = Arm Circumference (cm)\n",
    "- BMXWAIST = Waist Circumference (cm)\n",
    "- HIQ210 = In the past 12 months, was there any time when {you/SP} did not have any health insurance coverage?\n",
    "\n"
   ]
  },
  {
   "cell_type": "code",
   "execution_count": 3,
   "metadata": {},
   "outputs": [
    {
     "data": {
      "text/plain": [
       "0"
      ]
     },
     "execution_count": 3,
     "metadata": {},
     "output_type": "execute_result"
    }
   ],
   "source": [
    "# check for duplicate rows\n",
    "duplicaterows = df[df.duplicated()]\n",
    "len(duplicaterows)"
   ]
  },
  {
   "cell_type": "markdown",
   "metadata": {},
   "source": [
    "## Statistical Inference\n",
    "\n",
    "NHANES uses a complex, multistage probability design to sample the civilian, noninstitutionalized population residing in the 50 states and D.C. Hence for purpose of this activity, NHANES data will be analysed as if it were an independent and identically distributed sample from a population.\n",
    "\n",
    "\n",
    "### Confidence interval\n",
    "\n",
    "Checking assumptions:  \n",
    "1) Is it simple random sample (SRS)?\n",
    "    - For purpose of this activity assume SRS\n",
    "2) Large Enough Sample Size – do we have at least 10 of each outcome?\n",
    "    - Yes we do\n",
    "\n",
    "First we look at the confidence intervals for proportion of smokers at 95% confidence interval."
   ]
  },
  {
   "cell_type": "code",
   "execution_count": 4,
   "metadata": {},
   "outputs": [
    {
     "name": "stdout",
     "output_type": "stream",
     "text": [
      "[1 2 7 9]\n",
      "[1 2]\n"
     ]
    }
   ],
   "source": [
    "# Confidence intervals for one proportion\n",
    "# as there are 2 genders provided in the dataset, the proportions of smokers will be calculated separately for females and for males.\n",
    "\n",
    "# looking at smoker col\n",
    "print(df['SMQ020'].unique() )\n",
    "\n",
    "# looking at gender col\n",
    "print(df['RIAGENDR'].unique())"
   ]
  },
  {
   "cell_type": "markdown",
   "metadata": {},
   "source": [
    "According to codebook\n",
    "- for smoker: 1=yes, 2=no, 7=refused, 9=don't know. \n",
    "- for gender: 1=make, 2=female\n",
    "\n",
    "We will replace the numeric codes in the variables of interest with text labels and represent the smokers in a table"
   ]
  },
  {
   "cell_type": "code",
   "execution_count": 5,
   "metadata": {},
   "outputs": [
    {
     "data": {
      "text/html": [
       "<div>\n",
       "<style scoped>\n",
       "    .dataframe tbody tr th:only-of-type {\n",
       "        vertical-align: middle;\n",
       "    }\n",
       "\n",
       "    .dataframe tbody tr th {\n",
       "        vertical-align: top;\n",
       "    }\n",
       "\n",
       "    .dataframe thead th {\n",
       "        text-align: right;\n",
       "    }\n",
       "</style>\n",
       "<table border=\"1\" class=\"dataframe\">\n",
       "  <thead>\n",
       "    <tr style=\"text-align: right;\">\n",
       "      <th>RIAGENDRx</th>\n",
       "      <th>Female</th>\n",
       "      <th>Male</th>\n",
       "    </tr>\n",
       "    <tr>\n",
       "      <th>SMQ020x</th>\n",
       "      <th></th>\n",
       "      <th></th>\n",
       "    </tr>\n",
       "  </thead>\n",
       "  <tbody>\n",
       "    <tr>\n",
       "      <th>No</th>\n",
       "      <td>2066</td>\n",
       "      <td>1340</td>\n",
       "    </tr>\n",
       "    <tr>\n",
       "      <th>Yes</th>\n",
       "      <td>906</td>\n",
       "      <td>1413</td>\n",
       "    </tr>\n",
       "  </tbody>\n",
       "</table>\n",
       "</div>"
      ],
      "text/plain": [
       "RIAGENDRx  Female  Male\n",
       "SMQ020x                \n",
       "No           2066  1340\n",
       "Yes           906  1413"
      ]
     },
     "execution_count": 5,
     "metadata": {},
     "output_type": "execute_result"
    }
   ],
   "source": [
    "df[\"SMQ020x\"] = df.SMQ020.replace({1: \"Yes\", 2: \"No\", 7: np.nan, 9: np.nan})\n",
    "df[\"RIAGENDRx\"] = df.RIAGENDR.replace({1: \"Male\", 2: \"Female\"})\n",
    "\n",
    "smokers = df[[\"SMQ020x\", \"RIAGENDRx\"]].dropna()\n",
    "smokersx = pd.crosstab(smokers.SMQ020x, smokers.RIAGENDRx)\n",
    "smokersx"
   ]
  },
  {
   "cell_type": "code",
   "execution_count": 6,
   "metadata": {},
   "outputs": [
    {
     "name": "stdout",
     "output_type": "stream",
     "text": [
      "(0.2882949879861214, 0.32139545615923526)\n",
      "(0.49458749263718593, 0.5319290347874418)\n"
     ]
    }
   ],
   "source": [
    "#finding the confidence interval\n",
    "\n",
    "smokersx.Female.No\n",
    "CIfemale = sm.stats.proportion_confint(smokersx.Female.Yes, smokersx.Female.No + smokersx.Female.Yes)\n",
    "CImale = sm.stats.proportion_confint(smokersx.Male.Yes, smokersx.Male.No + smokersx.Male.Yes)\n",
    "\n",
    "print(CIfemale)\n",
    "print(CImale)"
   ]
  },
  {
   "cell_type": "markdown",
   "metadata": {},
   "source": [
    "From above results, we are 95% confident that the population proportion of all females who smokes is estimated to be between 28%~32% whilst its 49%~53% for males.\n",
    "\n",
    "Next we look at the confidence intervals for the population mean of BMI at 95% confidence interval."
   ]
  },
  {
   "cell_type": "code",
   "execution_count": 7,
   "metadata": {},
   "outputs": [
    {
     "name": "stdout",
     "output_type": "stream",
     "text": [
      "(29.659875498090155, 30.22001580625768)\n",
      "(28.543010471866523, 29.013133751827382)\n"
     ]
    }
   ],
   "source": [
    "# Confidence intervals for mean\n",
    "# as there are 2 genders provided in the dataset, the proportions of BMI will be calculated separately for females and for males.\n",
    "\n",
    "# extracting the data for respective gender BMI\n",
    "female_bmi = df.loc[df.RIAGENDRx==\"Female\", \"BMXBMI\"].dropna()\n",
    "male_bmi = df.loc[df.RIAGENDRx==\"Male\", \"BMXBMI\"].dropna()\n",
    "\n",
    "print(sm.stats.DescrStatsW(female_bmi).zconfint_mean())\n",
    "print(sm.stats.DescrStatsW(male_bmi).zconfint_mean())"
   ]
  },
  {
   "cell_type": "markdown",
   "metadata": {},
   "source": [
    "From above results, we are 95% confident that the population average BMI for all females is estimated to be between 29.65~30.22 whilst its 28.54~29.01 for males.\n",
    "\n",
    "Next we look at the confidence intervals for difference in population mean of BMI between female and males at 95% confidence interval."
   ]
  },
  {
   "cell_type": "code",
   "execution_count": 25,
   "metadata": {},
   "outputs": [
    {
     "name": "stdout",
     "output_type": "stream",
     "text": [
      "            meanx        SD     n\n",
      "male    29.939946  7.753319  2976\n",
      "female  28.778072  6.252568  2759\n"
     ]
    }
   ],
   "source": [
    "# finding the mean, standard deviation and sample size\n",
    "BMIstats = df.groupby('RIAGENDRx').agg({'BMXBMI': [np.mean, np.std, np.size]}).dropna()\n",
    "BMIstats.index = ['male', 'female']\n",
    "BMIstats.columns = ['meanx', 'SD', 'n']\n",
    "print(BMIstats)\n",
    "\n",
    "# mean difference between male and female\n",
    "phat = BMIstats.meanx.male - BMIstats.meanx.female #-1.1618735403269653"
   ]
  },
  {
   "cell_type": "code",
   "execution_count": 12,
   "metadata": {},
   "outputs": [
    {
     "name": "stdout",
     "output_type": "stream",
     "text": [
      "unpooled CI 0.7948014816580892 1.5289455989958416\n"
     ]
    }
   ],
   "source": [
    "# as the variance between female and male are quite different, unpooled approach will be used to calculate the standard error\n",
    "\n",
    "# unpooled confidence interval approach\n",
    "unpoolse = np.sqrt(BMIstats.SD.male**2/BMIstats.n.male + BMIstats.SD.female**2/BMIstats.n.female) #0.18538992862064452\n",
    "\n",
    "unpooledUCB = phat + 1.98*unpoolse\n",
    "unpooledLCB = phat - 1.98*unpoolse\n",
    "\n",
    "print('unpooled CI', unpooledLCB, unpooledUCB)"
   ]
  },
  {
   "cell_type": "markdown",
   "metadata": {},
   "source": [
    "From above results, we are 95% confident that the difference in population average BMI between females and males is estimated to be between 0.79kg/$m^{2}$~1.52kg/$m^{2}$. \n",
    "\n",
    "### Hypothesis Testing\n",
    "\n",
    "Checking assumptions:  \n",
    "\n",
    "1) Is it simple random sample (SRS)?\n",
    "    - For purpose of this activity assume SRS\n",
    "2) Large Enough Sample Size – do we have at least 10 of each outcome?\n",
    "    - Yes we do\n",
    "\n",
    "Next we move on to hypothesis testing. We will begin with one population proportion hypothesis test.\n",
    "\n",
    "For illustration, imagine that the rate of lifetime smoking in another country was known to be 40%, and we wished to assess whether the rate of lifetime smoking in the US were different from 40%.  \n",
    "\n",
    "**Population**: Smokers  \n",
    "**Parameter of Interest**: p  \n",
    "**Null Hypothesis:** p = 0.4  \n",
    "**Alternative Hypthosis:** p $\\neq$ 0.4 (two-sided test)"
   ]
  },
  {
   "cell_type": "code",
   "execution_count": 19,
   "metadata": {},
   "outputs": [
    {
     "name": "stdout",
     "output_type": "stream",
     "text": [
      "0.7823563854332805 0.4340051581348052\n"
     ]
    }
   ],
   "source": [
    "pnull = 0.4\n",
    "\n",
    "# finding the smokers rows\n",
    "smokers = df.SMQ020x.dropna() == \"Yes\"\n",
    "# average numbers of smokers\n",
    "phat = smokers.mean()\n",
    "\n",
    "standarderror = np.sqrt(pnull * (1-pnull) / len(smokers))\n",
    "\n",
    "test_stat = (phat - pnull) / standarderror\n",
    "pvalue = 2*dist.norm.cdf(-np.abs(test_stat))\n",
    "\n",
    "print(test_stat, pvalue)"
   ]
  },
  {
   "cell_type": "markdown",
   "metadata": {},
   "source": [
    "as p-value of 0.43 is larger than alpha of 0.05 (95% confidence) we fail to reject the null hypothesis. There is no sufficient evidence that the rate of lifetime smoking in the US is different from 40%.\n",
    "\n",
    "Next we look at hypothesis test for one population mean.\n",
    "\n",
    "We wish to look at whether is the average BMI for all females collected in the NHANES data is same as the average BMI of 23.2 for females in [Singapore](https://en.wikipedia.org/wiki/List_of_countries_by_body_mass_index).\n",
    "\n",
    "\n",
    "**Population**: Females  \n",
    "**Parameter of Interest**: $\\mu$, population mean of female BMI.  \n",
    "**Null Hypothesis:** $\\mu$ = 23.2  \n",
    "**Alternative Hypthosis:** $\\mu$ $\\neq$ 23.2 (two-sided test)\n"
   ]
  },
  {
   "cell_type": "code",
   "execution_count": 23,
   "metadata": {},
   "outputs": [
    {
     "name": "stdout",
     "output_type": "stream",
     "text": [
      "47.1669349389775 0.0\n"
     ]
    }
   ],
   "source": [
    "pnull = 23.2\n",
    "\n",
    "female_bmi = df.loc[df.RIAGENDRx==\"Female\", \"BMXBMI\"].dropna()\n",
    "phat = female_bmi.mean() # 29.93994565217391\n",
    "BMIsd = female_bmi.std() # 7.753318809545674\n",
    "\n",
    "standarderror = BMIsd/np.sqrt(len(female_bmi)) # 0.14289556149649657\n",
    "\n",
    "test_stat = (phat - pnull) / standarderror\n",
    "pvalue = 2*dist.norm.cdf(-np.abs(test_stat))\n",
    "\n",
    "print(test_stat, pvalue)"
   ]
  },
  {
   "cell_type": "markdown",
   "metadata": {},
   "source": [
    "as p-value of 0.0 is smaller than alpha of 0.05 (95% confidence) we can reject the null hypothesis. There is sufficient evidence that the average BMI for all females collected in the NHANES data is not the same as the average BMI of females in Singapore.\n",
    "\n",
    "Next we look at hypothesis test for difference in population mean.\n",
    "\n",
    "Considering adults in the NHANES data, do males have a significantly higher mean Body Mass Index than females?\n",
    "\n",
    "**Population**: Adults in the NHANES data.  \n",
    "**Parameter of Interest**: $\\mu_1 - \\mu_2$, Body Mass Index.  \n",
    "**Null Hypothesis:** $\\mu_1 = \\mu_2$  \n",
    "**Alternative Hypthosis:** $\\mu_1 \\neq \\mu_2$"
   ]
  },
  {
   "cell_type": "code",
   "execution_count": 26,
   "metadata": {},
   "outputs": [
    {
     "name": "stdout",
     "output_type": "stream",
     "text": [
      "            meanx        SD     n\n",
      "male    29.939946  7.753319  2976\n",
      "female  28.778072  6.252568  2759\n"
     ]
    }
   ],
   "source": [
    "BMIstats = df.groupby('RIAGENDRx').agg({'BMXBMI': [np.mean, np.std, np.size]}).dropna()\n",
    "BMIstats.index = ['male', 'female']\n",
    "BMIstats.columns = ['meanx', 'SD', 'n']\n",
    "print(BMIstats)"
   ]
  },
  {
   "cell_type": "code",
   "execution_count": 29,
   "metadata": {},
   "outputs": [
    {
     "name": "stdout",
     "output_type": "stream",
     "text": [
      "-6.267188023489979 1.9720930982762633e-10\n"
     ]
    }
   ],
   "source": [
    "female_bmi = df.loc[df.RIAGENDRx==\"Female\", \"BMXBMI\"].dropna()\n",
    "male_bmi = df.loc[df.RIAGENDRx==\"Male\", \"BMXBMI\"].dropna()\n",
    "\n",
    "\n",
    "phat = BMIstats.meanx.male - BMIstats.meanx.female #-1.1618735403269653\n",
    "\n",
    "# as the variance between female and male are quite different, unpooled approach will be used to calculate the standard error\n",
    "\n",
    "#unpooled approach SE\n",
    "unpoolse = np.sqrt(BMIstats.SD.male**2/BMIstats.n.male + BMIstats.SD.female**2/BMIstats.n.female) #0.18538992862064452\n",
    "\n",
    "bmiTvalueunpool = (phat - 0) / unpoolse #-6.267188023489979\n",
    "\n",
    "BMIpvalueunpool = t.cdf(bmiTvalueunpool, (BMIstats.n.male+BMIstats.n.female-2)) \n",
    "#1.9720930982762633e-10\n",
    "\n",
    "print(bmiTvalueunpool, BMIpvalueunpool)"
   ]
  },
  {
   "cell_type": "markdown",
   "metadata": {},
   "source": [
    "as p-value of 1.9720930982762633e-10 is smaller than alpha of 0.05 (95% confidence) we can reject the null hypothesis. There is sufficient evidence to suggest that males have a significantly higher mean Body Mass Index than females.\n",
    "\n",
    "### Data Modeling\n",
    "\n",
    "Lastly we move to modeling structure. Models have two primary characteristics,  Dependent Variables (DVs) and Independent Variables (IVs). \n",
    "\n",
    "We will focus on systolic [blood pressure](https://en.wikipedia.org/wiki/Blood_pressure) (SBP) as the outcome (dependent) variable.  That is, we will predict SBP from other variables.  SBP is an important indicator of cardiovascular health.  It tends to increase with age, is greater for overweight people (i.e. people with greater body mass index or BMI), and also differs among demographic groups, for example among gender and ethnic groups. We will look at the following independent variables:\n",
    "- RIDAGEYR - age\n",
    "- RIAGENDR - gender\n",
    "- RIDRETH1 - ethnicity\n",
    "- DMDEDUC2 - education level\n",
    "- BMXBMI - BMI\n",
    "- SMQ020 - smoked at least 100 cigarettes in {your/his/her} entire life?"
   ]
  },
  {
   "cell_type": "code",
   "execution_count": 35,
   "metadata": {},
   "outputs": [
    {
     "name": "stdout",
     "output_type": "stream",
     "text": [
      "      BPXSY1  RIDAGEYR  RIAGENDR  RIDRETH1  DMDEDUC2  BMXBMI  SMQ020\n",
      "0      128.0        62         1         3       5.0    27.8       1\n",
      "1      146.0        53         1         3       3.0    30.8       1\n",
      "2      138.0        78         1         3       3.0    28.8       1\n",
      "3      132.0        56         2         3       5.0    42.4       2\n",
      "4      100.0        42         2         4       4.0    20.3       2\n",
      "...      ...       ...       ...       ...       ...     ...     ...\n",
      "5730   112.0        76         2         3       3.0    21.5       1\n",
      "5731   118.0        26         1         3       5.0    33.8       2\n",
      "5732   154.0        80         2         3       4.0    31.0       1\n",
      "5733   104.0        35         1         3       1.0    26.0       1\n",
      "5734   118.0        24         2         3       5.0    21.4       2\n",
      "\n",
      "[5102 rows x 7 columns]\n"
     ]
    }
   ],
   "source": [
    "# first drop unused columns, and drop rows with any missing values.\n",
    "vars = [\"BPXSY1\", \"RIDAGEYR\", \"RIAGENDR\", \"RIDRETH1\", \"DMDEDUC2\", \"BMXBMI\", \"SMQ020\"]\n",
    "da = df[vars].dropna()\n"
   ]
  },
  {
   "cell_type": "markdown",
   "metadata": {},
   "source": [
    "One of the most important steps in modeling is understanding the relationship our variables have with each other.  A relationship between two variables is also denoted as correlation in statistics.  A figure known as a correlation matrix, can be used to measure the linear relationships between variables."
   ]
  },
  {
   "cell_type": "code",
   "execution_count": 36,
   "metadata": {},
   "outputs": [
    {
     "name": "stdout",
     "output_type": "stream",
     "text": [
      "          BPXSY1  RIDAGEYR  RIAGENDR  RIDRETH1  DMDEDUC2  BMXBMI  SMQ020\n",
      "BPXSY1      1.00      0.46     -0.10     -0.01     -0.15    0.12   -0.08\n",
      "RIDAGEYR    0.46      1.00     -0.02     -0.04     -0.14    0.02   -0.12\n",
      "RIAGENDR   -0.10     -0.02      1.00     -0.03      0.03    0.08    0.19\n",
      "RIDRETH1   -0.01     -0.04     -0.03      1.00      0.31   -0.16    0.01\n",
      "DMDEDUC2   -0.15     -0.14      0.03      0.31      1.00   -0.05    0.09\n",
      "BMXBMI      0.12      0.02      0.08     -0.16     -0.05    1.00   -0.02\n",
      "SMQ020     -0.08     -0.12      0.19      0.01      0.09   -0.02    1.00\n"
     ]
    },
    {
     "data": {
      "image/png": "[encoded data removed]",
      "text/plain": [
       "<Figure size 842.4x595.44 with 2 Axes>"
      ]
     },
     "metadata": {},
     "output_type": "display_data"
    }
   ],
   "source": [
    "correlation_matrix = da.corr().round(2)\n",
    "\n",
    "sns.set(rc={'figure.figsize':(11.7,8.27)})\n",
    "sns.heatmap(data=correlation_matrix, annot=True)\n",
    "plt.show()"
   ]
  },
  {
   "cell_type": "markdown",
   "metadata": {},
   "source": [
    "With this heatmap, we can see correlation coefficients for each of our potential predictors values and **BPXSY1**, our target values. Its interesting to see that **RIDAGEYR** (age) has a higher correlation coefficient compared to **BMXBMI** (BMI).\n",
    "\n",
    "Since SBP is a quantitative variable, we will model it using linear regression. We start with a simple linear regression model **with only one covariate, age**, predicting SBP.  "
   ]
  },
  {
   "cell_type": "code",
   "execution_count": 38,
   "metadata": {},
   "outputs": [
    {
     "data": {
      "text/html": [
       "<table class=\"simpletable\">\n",
       "<caption>OLS Regression Results</caption>\n",
       "<tr>\n",
       "  <th>Dep. Variable:</th>         <td>BPXSY1</td>      <th>  R-squared:         </th> <td>   0.207</td> \n",
       "</tr>\n",
       "<tr>\n",
       "  <th>Model:</th>                   <td>OLS</td>       <th>  Adj. R-squared:    </th> <td>   0.207</td> \n",
       "</tr>\n",
       "<tr>\n",
       "  <th>Method:</th>             <td>Least Squares</td>  <th>  F-statistic:       </th> <td>   1333.</td> \n",
       "</tr>\n",
       "<tr>\n",
       "  <th>Date:</th>             <td>Wed, 21 Sep 2022</td> <th>  Prob (F-statistic):</th> <td>2.09e-259</td>\n",
       "</tr>\n",
       "<tr>\n",
       "  <th>Time:</th>                 <td>14:54:19</td>     <th>  Log-Likelihood:    </th> <td> -21530.</td> \n",
       "</tr>\n",
       "<tr>\n",
       "  <th>No. Observations:</th>      <td>  5102</td>      <th>  AIC:               </th> <td>4.306e+04</td>\n",
       "</tr>\n",
       "<tr>\n",
       "  <th>Df Residuals:</th>          <td>  5100</td>      <th>  BIC:               </th> <td>4.308e+04</td>\n",
       "</tr>\n",
       "<tr>\n",
       "  <th>Df Model:</th>              <td>     1</td>      <th>                     </th>     <td> </td>    \n",
       "</tr>\n",
       "<tr>\n",
       "  <th>Covariance Type:</th>      <td>nonrobust</td>    <th>                     </th>     <td> </td>    \n",
       "</tr>\n",
       "</table>\n",
       "<table class=\"simpletable\">\n",
       "<tr>\n",
       "      <td></td>         <th>coef</th>     <th>std err</th>      <th>t</th>      <th>P>|t|</th>  <th>[0.025</th>    <th>0.975]</th>  \n",
       "</tr>\n",
       "<tr>\n",
       "  <th>Intercept</th> <td>  102.0935</td> <td>    0.685</td> <td>  149.120</td> <td> 0.000</td> <td>  100.751</td> <td>  103.436</td>\n",
       "</tr>\n",
       "<tr>\n",
       "  <th>RIDAGEYR</th>  <td>    0.4759</td> <td>    0.013</td> <td>   36.504</td> <td> 0.000</td> <td>    0.450</td> <td>    0.501</td>\n",
       "</tr>\n",
       "</table>\n",
       "<table class=\"simpletable\">\n",
       "<tr>\n",
       "  <th>Omnibus:</th>       <td>690.261</td> <th>  Durbin-Watson:     </th> <td>   2.039</td>\n",
       "</tr>\n",
       "<tr>\n",
       "  <th>Prob(Omnibus):</th> <td> 0.000</td>  <th>  Jarque-Bera (JB):  </th> <td>1505.999</td>\n",
       "</tr>\n",
       "<tr>\n",
       "  <th>Skew:</th>          <td> 0.810</td>  <th>  Prob(JB):          </th> <td>    0.00</td>\n",
       "</tr>\n",
       "<tr>\n",
       "  <th>Kurtosis:</th>      <td> 5.112</td>  <th>  Cond. No.          </th> <td>    156.</td>\n",
       "</tr>\n",
       "</table><br/><br/>Notes:<br/>[1] Standard Errors assume that the covariance matrix of the errors is correctly specified."
      ],
      "text/plain": [
       "<class 'statsmodels.iolib.summary.Summary'>\n",
       "\"\"\"\n",
       "                            OLS Regression Results                            \n",
       "==============================================================================\n",
       "Dep. Variable:                 BPXSY1   R-squared:                       0.207\n",
       "Model:                            OLS   Adj. R-squared:                  0.207\n",
       "Method:                 Least Squares   F-statistic:                     1333.\n",
       "Date:                Wed, 21 Sep 2022   Prob (F-statistic):          2.09e-259\n",
       "Time:                        14:54:19   Log-Likelihood:                -21530.\n",
       "No. Observations:                5102   AIC:                         4.306e+04\n",
       "Df Residuals:                    5100   BIC:                         4.308e+04\n",
       "Df Model:                           1                                         \n",
       "Covariance Type:            nonrobust                                         \n",
       "==============================================================================\n",
       "                 coef    std err          t      P>|t|      [0.025      0.975]\n",
       "------------------------------------------------------------------------------\n",
       "Intercept    102.0935      0.685    149.120      0.000     100.751     103.436\n",
       "RIDAGEYR       0.4759      0.013     36.504      0.000       0.450       0.501\n",
       "==============================================================================\n",
       "Omnibus:                      690.261   Durbin-Watson:                   2.039\n",
       "Prob(Omnibus):                  0.000   Jarque-Bera (JB):             1505.999\n",
       "Skew:                           0.810   Prob(JB):                         0.00\n",
       "Kurtosis:                       5.112   Cond. No.                         156.\n",
       "==============================================================================\n",
       "\n",
       "Notes:\n",
       "[1] Standard Errors assume that the covariance matrix of the errors is correctly specified.\n",
       "\"\"\""
      ]
     },
     "execution_count": 38,
     "metadata": {},
     "output_type": "execute_result"
    }
   ],
   "source": [
    "model = sm.OLS.from_formula(\"BPXSY1 ~ RIDAGEYR\", data=da)\n",
    "\n",
    "result = model.fit()\n",
    "result.summary()\n"
   ]
  },
  {
   "cell_type": "markdown",
   "metadata": {},
   "source": [
    "We will focus on the center section of the output where the header begins with __coef__.  This section contains the estimated values of the parameters of the regression model, their standard errors, and other values that are used to quantify the uncertainty in the regression parameter estimates. \n",
    "\n",
    "This fitted model implies that when comparing two people whose ages differ by one year, the older person will on average have 0.4759 units higher SBP than the younger person. This difference is statistically significant, based on the p-value shown under the column labeled __`P>|t|`__ is lesser than alpha of 0.05.  This means that there is strong evidence that there is a real association between between systolic blood pressure and age in this population.\n",
    "\n",
    "#### Adding a second variable\n",
    "\n",
    "Above we considered a simple linear regression analysis with only one covariate (age) predicting systolic blood pressure (SBP).  As noted above, SBP is expected to be related to gender as well as to age, so we next add gender to the model.  "
   ]
  },
  {
   "cell_type": "code",
   "execution_count": 40,
   "metadata": {},
   "outputs": [
    {
     "data": {
      "text/html": [
       "<table class=\"simpletable\">\n",
       "<caption>OLS Regression Results</caption>\n",
       "<tr>\n",
       "  <th>Dep. Variable:</th>         <td>BPXSY1</td>      <th>  R-squared:         </th> <td>   0.215</td> \n",
       "</tr>\n",
       "<tr>\n",
       "  <th>Model:</th>                   <td>OLS</td>       <th>  Adj. R-squared:    </th> <td>   0.214</td> \n",
       "</tr>\n",
       "<tr>\n",
       "  <th>Method:</th>             <td>Least Squares</td>  <th>  F-statistic:       </th> <td>   697.4</td> \n",
       "</tr>\n",
       "<tr>\n",
       "  <th>Date:</th>             <td>Wed, 21 Sep 2022</td> <th>  Prob (F-statistic):</th> <td>1.87e-268</td>\n",
       "</tr>\n",
       "<tr>\n",
       "  <th>Time:</th>                 <td>15:00:16</td>     <th>  Log-Likelihood:    </th> <td> -21505.</td> \n",
       "</tr>\n",
       "<tr>\n",
       "  <th>No. Observations:</th>      <td>  5102</td>      <th>  AIC:               </th> <td>4.302e+04</td>\n",
       "</tr>\n",
       "<tr>\n",
       "  <th>Df Residuals:</th>          <td>  5099</td>      <th>  BIC:               </th> <td>4.304e+04</td>\n",
       "</tr>\n",
       "<tr>\n",
       "  <th>Df Model:</th>              <td>     2</td>      <th>                     </th>     <td> </td>    \n",
       "</tr>\n",
       "<tr>\n",
       "  <th>Covariance Type:</th>      <td>nonrobust</td>    <th>                     </th>     <td> </td>    \n",
       "</tr>\n",
       "</table>\n",
       "<table class=\"simpletable\">\n",
       "<tr>\n",
       "          <td></td>             <th>coef</th>     <th>std err</th>      <th>t</th>      <th>P>|t|</th>  <th>[0.025</th>    <th>0.975]</th>  \n",
       "</tr>\n",
       "<tr>\n",
       "  <th>Intercept</th>         <td>  100.6305</td> <td>    0.712</td> <td>  141.257</td> <td> 0.000</td> <td>   99.234</td> <td>  102.027</td>\n",
       "</tr>\n",
       "<tr>\n",
       "  <th>RIAGENDRx[T.Male]</th> <td>    3.2322</td> <td>    0.459</td> <td>    7.040</td> <td> 0.000</td> <td>    2.332</td> <td>    4.132</td>\n",
       "</tr>\n",
       "<tr>\n",
       "  <th>RIDAGEYR</th>          <td>    0.4739</td> <td>    0.013</td> <td>   36.518</td> <td> 0.000</td> <td>    0.448</td> <td>    0.499</td>\n",
       "</tr>\n",
       "</table>\n",
       "<table class=\"simpletable\">\n",
       "<tr>\n",
       "  <th>Omnibus:</th>       <td>706.732</td> <th>  Durbin-Watson:     </th> <td>   2.036</td>\n",
       "</tr>\n",
       "<tr>\n",
       "  <th>Prob(Omnibus):</th> <td> 0.000</td>  <th>  Jarque-Bera (JB):  </th> <td>1582.730</td>\n",
       "</tr>\n",
       "<tr>\n",
       "  <th>Skew:</th>          <td> 0.818</td>  <th>  Prob(JB):          </th> <td>    0.00</td>\n",
       "</tr>\n",
       "<tr>\n",
       "  <th>Kurtosis:</th>      <td> 5.184</td>  <th>  Cond. No.          </th> <td>    168.</td>\n",
       "</tr>\n",
       "</table><br/><br/>Notes:<br/>[1] Standard Errors assume that the covariance matrix of the errors is correctly specified."
      ],
      "text/plain": [
       "<class 'statsmodels.iolib.summary.Summary'>\n",
       "\"\"\"\n",
       "                            OLS Regression Results                            \n",
       "==============================================================================\n",
       "Dep. Variable:                 BPXSY1   R-squared:                       0.215\n",
       "Model:                            OLS   Adj. R-squared:                  0.214\n",
       "Method:                 Least Squares   F-statistic:                     697.4\n",
       "Date:                Wed, 21 Sep 2022   Prob (F-statistic):          1.87e-268\n",
       "Time:                        15:00:16   Log-Likelihood:                -21505.\n",
       "No. Observations:                5102   AIC:                         4.302e+04\n",
       "Df Residuals:                    5099   BIC:                         4.304e+04\n",
       "Df Model:                           2                                         \n",
       "Covariance Type:            nonrobust                                         \n",
       "=====================================================================================\n",
       "                        coef    std err          t      P>|t|      [0.025      0.975]\n",
       "-------------------------------------------------------------------------------------\n",
       "Intercept           100.6305      0.712    141.257      0.000      99.234     102.027\n",
       "RIAGENDRx[T.Male]     3.2322      0.459      7.040      0.000       2.332       4.132\n",
       "RIDAGEYR              0.4739      0.013     36.518      0.000       0.448       0.499\n",
       "==============================================================================\n",
       "Omnibus:                      706.732   Durbin-Watson:                   2.036\n",
       "Prob(Omnibus):                  0.000   Jarque-Bera (JB):             1582.730\n",
       "Skew:                           0.818   Prob(JB):                         0.00\n",
       "Kurtosis:                       5.184   Cond. No.                         168.\n",
       "==============================================================================\n",
       "\n",
       "Notes:\n",
       "[1] Standard Errors assume that the covariance matrix of the errors is correctly specified.\n",
       "\"\"\""
      ]
     },
     "execution_count": 40,
     "metadata": {},
     "output_type": "execute_result"
    }
   ],
   "source": [
    "da[\"RIAGENDRx\"] = da.RIAGENDR.replace({1: \"Male\", 2: \"Female\"})\n",
    "\n",
    "model2 = sm.OLS.from_formula(\"BPXSY1 ~ RIDAGEYR + RIAGENDRx\", data=da)\n",
    "result2 = model2.fit()\n",
    "result2.summary()"
   ]
  },
  {
   "cell_type": "markdown",
   "metadata": {},
   "source": [
    "The model finds that two people with the same gender whose ages differ by one year tend to have blood pressure values differing by 0.47 units, which is essentially the same age parameter that we found above in the model based on age alone.  This model also shows us that comparing a man and a woman of the same age, the man will on average have 3.23 units greater SBP.\n",
    "\n",
    "It is important to also emphasize that the age coefficient of 0.47 is only meaningful when comparing two people of the same gender, and the gender coefficient of 3.23 is only meaningful when comparing two\n",
    "people of the same age. Moreover, these effects are additive, meaning that if we compare, say, a 50 year old man to a 40 year old woman, the man's blood pressure will on average be around 3.23 + 10*0.47 = 7.93 units higher, with the first term in this sum being attributable to gender, and the second term being attributable to age.\n",
    "\n",
    "We noted above that the regression coefficient for age did not change by much when we added gender to the model. In general, the estimated coefficient of a variable in a regression model will change when other variables are added or removed. The only circumstance in which a regression parameters is unchanged when other variables are added or removed from the model is when those variables are uncorrelated with the variables that remain in the model. So to say there is little correlation between age and gender, which is true.\n",
    "\n",
    "Above correlation matrix we confirm that gender and age are nearly uncorrelated in this data set (the correlation of around -0.02 is negligible).  Thus, it is expected that when we add gender to the model, the age coefficient is unaffected.\n",
    "\n",
    "#### Categorical variables and reference levels\n",
    "\n",
    "In the model fit above, gender is a categorical variable, and only a coefficient for males is included in the regression output (i.e. there is no coefficient for females in the tables above).  \n",
    "\n",
    "Whenever a categorical variable is used as a covariate in a regression model, one level of the variable is omitted and is automatically given a coefficient of zero. This level is called the **reference level** of the covariate. Here, the female level of the gender variable is the reference level.  \n",
    "\n",
    "This does not mean that being a woman has no impact on blood pressure.  It simply means that we have written the model so that female blood pressure is the default, and the coefficient for males (3.23) shifts the blood pressure by that amount for males only.\n",
    "\n",
    "#### A model with three variables\n",
    "\n",
    "Next we add a third variable, body mass index (BMI), to the model predicting SBP. "
   ]
  },
  {
   "cell_type": "code",
   "execution_count": 41,
   "metadata": {},
   "outputs": [
    {
     "data": {
      "text/html": [
       "<table class=\"simpletable\">\n",
       "<caption>OLS Regression Results</caption>\n",
       "<tr>\n",
       "  <th>Dep. Variable:</th>         <td>BPXSY1</td>      <th>  R-squared:         </th> <td>   0.228</td> \n",
       "</tr>\n",
       "<tr>\n",
       "  <th>Model:</th>                   <td>OLS</td>       <th>  Adj. R-squared:    </th> <td>   0.228</td> \n",
       "</tr>\n",
       "<tr>\n",
       "  <th>Method:</th>             <td>Least Squares</td>  <th>  F-statistic:       </th> <td>   502.0</td> \n",
       "</tr>\n",
       "<tr>\n",
       "  <th>Date:</th>             <td>Wed, 21 Sep 2022</td> <th>  Prob (F-statistic):</th> <td>8.54e-286</td>\n",
       "</tr>\n",
       "<tr>\n",
       "  <th>Time:</th>                 <td>15:21:33</td>     <th>  Log-Likelihood:    </th> <td> -21461.</td> \n",
       "</tr>\n",
       "<tr>\n",
       "  <th>No. Observations:</th>      <td>  5102</td>      <th>  AIC:               </th> <td>4.293e+04</td>\n",
       "</tr>\n",
       "<tr>\n",
       "  <th>Df Residuals:</th>          <td>  5098</td>      <th>  BIC:               </th> <td>4.296e+04</td>\n",
       "</tr>\n",
       "<tr>\n",
       "  <th>Df Model:</th>              <td>     3</td>      <th>                     </th>     <td> </td>    \n",
       "</tr>\n",
       "<tr>\n",
       "  <th>Covariance Type:</th>      <td>nonrobust</td>    <th>                     </th>     <td> </td>    \n",
       "</tr>\n",
       "</table>\n",
       "<table class=\"simpletable\">\n",
       "<tr>\n",
       "          <td></td>             <th>coef</th>     <th>std err</th>      <th>t</th>      <th>P>|t|</th>  <th>[0.025</th>    <th>0.975]</th>  \n",
       "</tr>\n",
       "<tr>\n",
       "  <th>Intercept</th>         <td>   91.5840</td> <td>    1.198</td> <td>   76.456</td> <td> 0.000</td> <td>   89.236</td> <td>   93.932</td>\n",
       "</tr>\n",
       "<tr>\n",
       "  <th>RIAGENDRx[T.Male]</th> <td>    3.5783</td> <td>    0.457</td> <td>    7.833</td> <td> 0.000</td> <td>    2.683</td> <td>    4.474</td>\n",
       "</tr>\n",
       "<tr>\n",
       "  <th>RIDAGEYR</th>          <td>    0.4709</td> <td>    0.013</td> <td>   36.582</td> <td> 0.000</td> <td>    0.446</td> <td>    0.496</td>\n",
       "</tr>\n",
       "<tr>\n",
       "  <th>BMXBMI</th>            <td>    0.3060</td> <td>    0.033</td> <td>    9.351</td> <td> 0.000</td> <td>    0.242</td> <td>    0.370</td>\n",
       "</tr>\n",
       "</table>\n",
       "<table class=\"simpletable\">\n",
       "<tr>\n",
       "  <th>Omnibus:</th>       <td>752.325</td> <th>  Durbin-Watson:     </th> <td>   2.040</td>\n",
       "</tr>\n",
       "<tr>\n",
       "  <th>Prob(Omnibus):</th> <td> 0.000</td>  <th>  Jarque-Bera (JB):  </th> <td>1776.087</td>\n",
       "</tr>\n",
       "<tr>\n",
       "  <th>Skew:</th>          <td> 0.847</td>  <th>  Prob(JB):          </th> <td>    0.00</td>\n",
       "</tr>\n",
       "<tr>\n",
       "  <th>Kurtosis:</th>      <td> 5.343</td>  <th>  Cond. No.          </th> <td>    316.</td>\n",
       "</tr>\n",
       "</table><br/><br/>Notes:<br/>[1] Standard Errors assume that the covariance matrix of the errors is correctly specified."
      ],
      "text/plain": [
       "<class 'statsmodels.iolib.summary.Summary'>\n",
       "\"\"\"\n",
       "                            OLS Regression Results                            \n",
       "==============================================================================\n",
       "Dep. Variable:                 BPXSY1   R-squared:                       0.228\n",
       "Model:                            OLS   Adj. R-squared:                  0.228\n",
       "Method:                 Least Squares   F-statistic:                     502.0\n",
       "Date:                Wed, 21 Sep 2022   Prob (F-statistic):          8.54e-286\n",
       "Time:                        15:21:33   Log-Likelihood:                -21461.\n",
       "No. Observations:                5102   AIC:                         4.293e+04\n",
       "Df Residuals:                    5098   BIC:                         4.296e+04\n",
       "Df Model:                           3                                         \n",
       "Covariance Type:            nonrobust                                         \n",
       "=====================================================================================\n",
       "                        coef    std err          t      P>|t|      [0.025      0.975]\n",
       "-------------------------------------------------------------------------------------\n",
       "Intercept            91.5840      1.198     76.456      0.000      89.236      93.932\n",
       "RIAGENDRx[T.Male]     3.5783      0.457      7.833      0.000       2.683       4.474\n",
       "RIDAGEYR              0.4709      0.013     36.582      0.000       0.446       0.496\n",
       "BMXBMI                0.3060      0.033      9.351      0.000       0.242       0.370\n",
       "==============================================================================\n",
       "Omnibus:                      752.325   Durbin-Watson:                   2.040\n",
       "Prob(Omnibus):                  0.000   Jarque-Bera (JB):             1776.087\n",
       "Skew:                           0.847   Prob(JB):                         0.00\n",
       "Kurtosis:                       5.343   Cond. No.                         316.\n",
       "==============================================================================\n",
       "\n",
       "Notes:\n",
       "[1] Standard Errors assume that the covariance matrix of the errors is correctly specified.\n",
       "\"\"\""
      ]
     },
     "execution_count": 41,
     "metadata": {},
     "output_type": "execute_result"
    }
   ],
   "source": [
    "model3 = sm.OLS.from_formula(\"BPXSY1 ~ RIDAGEYR + BMXBMI + RIAGENDRx\", data=da)\n",
    "result3 = model3.fit()\n",
    "result3.summary()"
   ]
  },
  {
   "cell_type": "markdown",
   "metadata": {},
   "source": [
    "Not surprisingly, BMI is positively associated with SBP. Given two subjects with the same gender and age, and whose BMI differs by 1 unit, the person with greater BMI will have, on average, 0.31 units greater systolic blood pressure (SBP).  After adding BMI to the model, the coefficient for gender became somewhat greater (from 3.23 to 3.57). This is due to the fact that the three covariates in the model, age, gender, and BMI, are mutually correlated, as seen from correlation matrix above.\n",
    "\n",
    "Although the correlations among these three variables are not strong, they are sufficient to induce fairly substantial differences in the regression coefficients.\n",
    "\n",
    "### Logistic regression\n",
    "\n",
    "Next we look at regression models for *binary* outcome variables, meaning an outcome that can take on only two distinct values. We will focus on variable SMQ020 as the outcome (dependent) variable.  That is, we will predict SMQ020 from other variables. Below we create a version of this variable in which smoking and non-smoking are coded as 1 and 0, respectively, and rare responses like *don't know* and *refused to answer* are coded as missing values.\n",
    "\n",
    "We then fit the model using the `GLM` function, where `GLM` stands for *Generalized Linear Model*."
   ]
  },
  {
   "cell_type": "code",
   "execution_count": 48,
   "metadata": {},
   "outputs": [
    {
     "data": {
      "text/html": [
       "<table class=\"simpletable\">\n",
       "<caption>Generalized Linear Model Regression Results</caption>\n",
       "<tr>\n",
       "  <th>Dep. Variable:</th>          <td>smq</td>       <th>  No. Observations:  </th>  <td>  5094</td> \n",
       "</tr>\n",
       "<tr>\n",
       "  <th>Model:</th>                  <td>GLM</td>       <th>  Df Residuals:      </th>  <td>  5092</td> \n",
       "</tr>\n",
       "<tr>\n",
       "  <th>Model Family:</th>        <td>Binomial</td>     <th>  Df Model:          </th>  <td>     1</td> \n",
       "</tr>\n",
       "<tr>\n",
       "  <th>Link Function:</th>         <td>Logit</td>      <th>  Scale:             </th> <td>  1.0000</td>\n",
       "</tr>\n",
       "<tr>\n",
       "  <th>Method:</th>                <td>IRLS</td>       <th>  Log-Likelihood:    </th> <td> -3350.6</td>\n",
       "</tr>\n",
       "<tr>\n",
       "  <th>Date:</th>            <td>Wed, 21 Sep 2022</td> <th>  Deviance:          </th> <td>  6701.2</td>\n",
       "</tr>\n",
       "<tr>\n",
       "  <th>Time:</th>                <td>16:17:40</td>     <th>  Pearson chi2:      </th> <td>5.09e+03</td>\n",
       "</tr>\n",
       "<tr>\n",
       "  <th>No. Iterations:</th>          <td>4</td>        <th>  Pseudo R-squ. (CS):</th>  <td>0.04557</td>\n",
       "</tr>\n",
       "<tr>\n",
       "  <th>Covariance Type:</th>     <td>nonrobust</td>    <th>                     </th>     <td> </td>   \n",
       "</tr>\n",
       "</table>\n",
       "<table class=\"simpletable\">\n",
       "<tr>\n",
       "          <td></td>             <th>coef</th>     <th>std err</th>      <th>z</th>      <th>P>|z|</th>  <th>[0.025</th>    <th>0.975]</th>  \n",
       "</tr>\n",
       "<tr>\n",
       "  <th>Intercept</th>         <td>   -0.7547</td> <td>    0.042</td> <td>  -18.071</td> <td> 0.000</td> <td>   -0.837</td> <td>   -0.673</td>\n",
       "</tr>\n",
       "<tr>\n",
       "  <th>RIAGENDRx[T.Male]</th> <td>    0.8851</td> <td>    0.058</td> <td>   15.227</td> <td> 0.000</td> <td>    0.771</td> <td>    0.999</td>\n",
       "</tr>\n",
       "</table>"
      ],
      "text/plain": [
       "<class 'statsmodels.iolib.summary.Summary'>\n",
       "\"\"\"\n",
       "                 Generalized Linear Model Regression Results                  \n",
       "==============================================================================\n",
       "Dep. Variable:                    smq   No. Observations:                 5094\n",
       "Model:                            GLM   Df Residuals:                     5092\n",
       "Model Family:                Binomial   Df Model:                            1\n",
       "Link Function:                  Logit   Scale:                          1.0000\n",
       "Method:                          IRLS   Log-Likelihood:                -3350.6\n",
       "Date:                Wed, 21 Sep 2022   Deviance:                       6701.2\n",
       "Time:                        16:17:40   Pearson chi2:                 5.09e+03\n",
       "No. Iterations:                     4   Pseudo R-squ. (CS):            0.04557\n",
       "Covariance Type:            nonrobust                                         \n",
       "=====================================================================================\n",
       "                        coef    std err          z      P>|z|      [0.025      0.975]\n",
       "-------------------------------------------------------------------------------------\n",
       "Intercept            -0.7547      0.042    -18.071      0.000      -0.837      -0.673\n",
       "RIAGENDRx[T.Male]     0.8851      0.058     15.227      0.000       0.771       0.999\n",
       "=====================================================================================\n",
       "\"\"\""
      ]
     },
     "execution_count": 48,
     "metadata": {},
     "output_type": "execute_result"
    }
   ],
   "source": [
    "da[\"smq\"] = da.SMQ020.replace({2: 0, 7: np.nan, 9: np.nan})\n",
    "\n",
    "model4 = sm.GLM.from_formula(\"smq ~ RIAGENDRx\", family=sm.families.Binomial(), data=da)\n",
    "\n",
    "resultGLM = model4.fit()\n",
    "resultGLM.summary()"
   ]
  },
  {
   "cell_type": "markdown",
   "metadata": {},
   "source": [
    "We can see the connection between logistic regression and the log odds statistic, the logistic regression coefficient (0.8851 per above model) for male gender is exactly equal to the difference between the log odds statistics for males and females:"
   ]
  },
  {
   "cell_type": "code",
   "execution_count": 47,
   "metadata": {},
   "outputs": [
    {
     "name": "stdout",
     "output_type": "stream",
     "text": [
      "smq             0.0       1.0      odds   logodds\n",
      "RIAGENDRx                                        \n",
      "Female     0.680197  0.319803  0.470162 -0.754679\n",
      "Male       0.467453  0.532547  1.139252  0.130371 \n",
      "\n",
      "0.8850500036644218\n"
     ]
    }
   ],
   "source": [
    "c = pd.crosstab(da.RIAGENDRx, da.smq).apply(lambda x: x/x.sum(), axis=1)\n",
    "c[\"odds\"] = c.loc[:, 1] / c.loc[:, 0]\n",
    "\n",
    "c[\"logodds\"] = np.log(c.odds)\n",
    "print(c, '\\n')\n",
    "print(c.logodds.Male - c.logodds.Female)"
   ]
  },
  {
   "cell_type": "markdown",
   "metadata": {},
   "source": [
    "#### Adding additional covariates\n",
    "\n",
    "Below we fit a logistic regression for smoking status using age (RIDAGEYR) and gender as covariates."
   ]
  },
  {
   "cell_type": "code",
   "execution_count": 49,
   "metadata": {},
   "outputs": [
    {
     "data": {
      "text/html": [
       "<table class=\"simpletable\">\n",
       "<caption>Generalized Linear Model Regression Results</caption>\n",
       "<tr>\n",
       "  <th>Dep. Variable:</th>          <td>smq</td>       <th>  No. Observations:  </th>  <td>  5094</td> \n",
       "</tr>\n",
       "<tr>\n",
       "  <th>Model:</th>                  <td>GLM</td>       <th>  Df Residuals:      </th>  <td>  5091</td> \n",
       "</tr>\n",
       "<tr>\n",
       "  <th>Model Family:</th>        <td>Binomial</td>     <th>  Df Model:          </th>  <td>     2</td> \n",
       "</tr>\n",
       "<tr>\n",
       "  <th>Link Function:</th>         <td>Logit</td>      <th>  Scale:             </th> <td>  1.0000</td>\n",
       "</tr>\n",
       "<tr>\n",
       "  <th>Method:</th>                <td>IRLS</td>       <th>  Log-Likelihood:    </th> <td> -3296.6</td>\n",
       "</tr>\n",
       "<tr>\n",
       "  <th>Date:</th>            <td>Wed, 21 Sep 2022</td> <th>  Deviance:          </th> <td>  6593.2</td>\n",
       "</tr>\n",
       "<tr>\n",
       "  <th>Time:</th>                <td>16:18:09</td>     <th>  Pearson chi2:      </th> <td>5.10e+03</td>\n",
       "</tr>\n",
       "<tr>\n",
       "  <th>No. Iterations:</th>          <td>4</td>        <th>  Pseudo R-squ. (CS):</th>  <td>0.06558</td>\n",
       "</tr>\n",
       "<tr>\n",
       "  <th>Covariance Type:</th>     <td>nonrobust</td>    <th>                     </th>     <td> </td>   \n",
       "</tr>\n",
       "</table>\n",
       "<table class=\"simpletable\">\n",
       "<tr>\n",
       "          <td></td>             <th>coef</th>     <th>std err</th>      <th>z</th>      <th>P>|z|</th>  <th>[0.025</th>    <th>0.975]</th>  \n",
       "</tr>\n",
       "<tr>\n",
       "  <th>Intercept</th>         <td>   -1.6166</td> <td>    0.095</td> <td>  -16.985</td> <td> 0.000</td> <td>   -1.803</td> <td>   -1.430</td>\n",
       "</tr>\n",
       "<tr>\n",
       "  <th>RIAGENDRx[T.Male]</th> <td>    0.8920</td> <td>    0.059</td> <td>   15.170</td> <td> 0.000</td> <td>    0.777</td> <td>    1.007</td>\n",
       "</tr>\n",
       "<tr>\n",
       "  <th>RIDAGEYR</th>          <td>    0.0172</td> <td>    0.002</td> <td>   10.289</td> <td> 0.000</td> <td>    0.014</td> <td>    0.021</td>\n",
       "</tr>\n",
       "</table>"
      ],
      "text/plain": [
       "<class 'statsmodels.iolib.summary.Summary'>\n",
       "\"\"\"\n",
       "                 Generalized Linear Model Regression Results                  \n",
       "==============================================================================\n",
       "Dep. Variable:                    smq   No. Observations:                 5094\n",
       "Model:                            GLM   Df Residuals:                     5091\n",
       "Model Family:                Binomial   Df Model:                            2\n",
       "Link Function:                  Logit   Scale:                          1.0000\n",
       "Method:                          IRLS   Log-Likelihood:                -3296.6\n",
       "Date:                Wed, 21 Sep 2022   Deviance:                       6593.2\n",
       "Time:                        16:18:09   Pearson chi2:                 5.10e+03\n",
       "No. Iterations:                     4   Pseudo R-squ. (CS):            0.06558\n",
       "Covariance Type:            nonrobust                                         \n",
       "=====================================================================================\n",
       "                        coef    std err          z      P>|z|      [0.025      0.975]\n",
       "-------------------------------------------------------------------------------------\n",
       "Intercept            -1.6166      0.095    -16.985      0.000      -1.803      -1.430\n",
       "RIAGENDRx[T.Male]     0.8920      0.059     15.170      0.000       0.777       1.007\n",
       "RIDAGEYR              0.0172      0.002     10.289      0.000       0.014       0.021\n",
       "=====================================================================================\n",
       "\"\"\""
      ]
     },
     "execution_count": 49,
     "metadata": {},
     "output_type": "execute_result"
    }
   ],
   "source": [
    "model5 = sm.GLM.from_formula(\"smq ~ RIDAGEYR + RIAGENDRx\", family=sm.families.Binomial(), data=da)\n",
    "resultGLM2 = model5.fit()\n",
    "resultGLM2.summary()"
   ]
  },
  {
   "cell_type": "markdown",
   "metadata": {},
   "source": [
    "This fitted model suggests that older people are more likely to have a history of smoking than younger people.  The log odds for smoking increases by 0.017 for each year of age.  This effect is additive, so that comparing two people whose ages differ by 20 years, the log odds of the older person smoking will be around 0.34 units (0.0172*20) greater than the log odds for the younger person smoking, and the odds for the older person smoking will be around `exp(0.34) = 1.4` (e^0.34) times greater than the odds for the younger person smoking.\n",
    "\n",
    "The greater prevalence of smoking history among older people could be partly due to the definition of smoking status that we are using here -- an older person has had more time to smoke 99 cigarettes than a younger person.  However most people who smoke begin when they are young, and the smoking rate in the US has been slowly declining for several decades.  Thus, it is likely that the increased smoking levels in older people are driven primarily by real shifts in behavior.\n",
    "\n",
    "As with linear regression, the roles of age and gender in the logistic regression model can be seen as being additive, but here the additivity is on the scale of log odds, not odds or probabilities.  If we compare a 30 year old female to a 50 year old male, the log odds for the male being a smoker are `0.89 + 0.34 = 1.23` units greater than the log odds for the female being a smoker.  The value of 0.89 in this expression is the change attributable to gender, and the value of 0.34 is the change attributable to age (0.34 = 20* 0.0172).  \n",
    "\n",
    "Again, we can exponentiate to convert these effects from the log odds scale to the odds scale.  Since `exp(0.89 + 0.34) = exp(0.89)*exp(0.34) = 2.44*1.41` we can state that male gender is associated with a 2.44 fold increase in the odds of smoking, and 20 years of age is associated with a 1.41 fold increase in the odds for smoking.  These two effects are multiplied when discussing the odds, so a 50 year old man has `exp(1.23) = 3.42` (same as 2.44* 1.41) fold greater odds of smoking than a 30 year old woman.\n",
    "\n",
    "#### A logistic regression model with three predictors\n",
    "\n",
    "Lastly we fit a logistic regression model, again for smoking, including educational attainment as a predictor. We will recode the educational values so that the meaning of the levels becomes more clear.  We will call the recoded variable `DMDEDUC2x`."
   ]
  },
  {
   "cell_type": "code",
   "execution_count": 52,
   "metadata": {},
   "outputs": [
    {
     "data": {
      "text/html": [
       "<table class=\"simpletable\">\n",
       "<caption>Generalized Linear Model Regression Results</caption>\n",
       "<tr>\n",
       "  <th>Dep. Variable:</th>          <td>smq</td>       <th>  No. Observations:  </th>  <td>  5093</td> \n",
       "</tr>\n",
       "<tr>\n",
       "  <th>Model:</th>                  <td>GLM</td>       <th>  Df Residuals:      </th>  <td>  5086</td> \n",
       "</tr>\n",
       "<tr>\n",
       "  <th>Model Family:</th>        <td>Binomial</td>     <th>  Df Model:          </th>  <td>     6</td> \n",
       "</tr>\n",
       "<tr>\n",
       "  <th>Link Function:</th>         <td>Logit</td>      <th>  Scale:             </th> <td>  1.0000</td>\n",
       "</tr>\n",
       "<tr>\n",
       "  <th>Method:</th>                <td>IRLS</td>       <th>  Log-Likelihood:    </th> <td> -3201.2</td>\n",
       "</tr>\n",
       "<tr>\n",
       "  <th>Date:</th>            <td>Wed, 21 Sep 2022</td> <th>  Deviance:          </th> <td>  6402.4</td>\n",
       "</tr>\n",
       "<tr>\n",
       "  <th>Time:</th>                <td>18:30:28</td>     <th>  Pearson chi2:      </th> <td>5.10e+03</td>\n",
       "</tr>\n",
       "<tr>\n",
       "  <th>No. Iterations:</th>          <td>4</td>        <th>  Pseudo R-squ. (CS):</th>  <td>0.09976</td>\n",
       "</tr>\n",
       "<tr>\n",
       "  <th>Covariance Type:</th>     <td>nonrobust</td>    <th>                     </th>     <td> </td>   \n",
       "</tr>\n",
       "</table>\n",
       "<table class=\"simpletable\">\n",
       "<tr>\n",
       "              <td></td>                <th>coef</th>     <th>std err</th>      <th>z</th>      <th>P>|z|</th>  <th>[0.025</th>    <th>0.975]</th>  \n",
       "</tr>\n",
       "<tr>\n",
       "  <th>Intercept</th>                <td>   -2.3060</td> <td>    0.114</td> <td>  -20.174</td> <td> 0.000</td> <td>   -2.530</td> <td>   -2.082</td>\n",
       "</tr>\n",
       "<tr>\n",
       "  <th>RIAGENDRx[T.Male]</th>        <td>    0.9096</td> <td>    0.060</td> <td>   15.118</td> <td> 0.000</td> <td>    0.792</td> <td>    1.028</td>\n",
       "</tr>\n",
       "<tr>\n",
       "  <th>DMDEDUC2x[T.HS]</th>          <td>    0.9434</td> <td>    0.090</td> <td>   10.521</td> <td> 0.000</td> <td>    0.768</td> <td>    1.119</td>\n",
       "</tr>\n",
       "<tr>\n",
       "  <th>DMDEDUC2x[T.SomeCollege]</th> <td>    0.8322</td> <td>    0.084</td> <td>    9.865</td> <td> 0.000</td> <td>    0.667</td> <td>    0.998</td>\n",
       "</tr>\n",
       "<tr>\n",
       "  <th>DMDEDUC2x[T.lt9]</th>         <td>    0.2662</td> <td>    0.109</td> <td>    2.438</td> <td> 0.015</td> <td>    0.052</td> <td>    0.480</td>\n",
       "</tr>\n",
       "<tr>\n",
       "  <th>DMDEDUC2x[T.x9_11]</th>       <td>    1.0986</td> <td>    0.107</td> <td>   10.296</td> <td> 0.000</td> <td>    0.889</td> <td>    1.308</td>\n",
       "</tr>\n",
       "<tr>\n",
       "  <th>RIDAGEYR</th>                 <td>    0.0183</td> <td>    0.002</td> <td>   10.582</td> <td> 0.000</td> <td>    0.015</td> <td>    0.022</td>\n",
       "</tr>\n",
       "</table>"
      ],
      "text/plain": [
       "<class 'statsmodels.iolib.summary.Summary'>\n",
       "\"\"\"\n",
       "                 Generalized Linear Model Regression Results                  \n",
       "==============================================================================\n",
       "Dep. Variable:                    smq   No. Observations:                 5093\n",
       "Model:                            GLM   Df Residuals:                     5086\n",
       "Model Family:                Binomial   Df Model:                            6\n",
       "Link Function:                  Logit   Scale:                          1.0000\n",
       "Method:                          IRLS   Log-Likelihood:                -3201.2\n",
       "Date:                Wed, 21 Sep 2022   Deviance:                       6402.4\n",
       "Time:                        18:30:28   Pearson chi2:                 5.10e+03\n",
       "No. Iterations:                     4   Pseudo R-squ. (CS):            0.09976\n",
       "Covariance Type:            nonrobust                                         \n",
       "============================================================================================\n",
       "                               coef    std err          z      P>|z|      [0.025      0.975]\n",
       "--------------------------------------------------------------------------------------------\n",
       "Intercept                   -2.3060      0.114    -20.174      0.000      -2.530      -2.082\n",
       "RIAGENDRx[T.Male]            0.9096      0.060     15.118      0.000       0.792       1.028\n",
       "DMDEDUC2x[T.HS]              0.9434      0.090     10.521      0.000       0.768       1.119\n",
       "DMDEDUC2x[T.SomeCollege]     0.8322      0.084      9.865      0.000       0.667       0.998\n",
       "DMDEDUC2x[T.lt9]             0.2662      0.109      2.438      0.015       0.052       0.480\n",
       "DMDEDUC2x[T.x9_11]           1.0986      0.107     10.296      0.000       0.889       1.308\n",
       "RIDAGEYR                     0.0183      0.002     10.582      0.000       0.015       0.022\n",
       "============================================================================================\n",
       "\"\"\""
      ]
     },
     "execution_count": 52,
     "metadata": {},
     "output_type": "execute_result"
    }
   ],
   "source": [
    "'''\n",
    "1\tLess than 9th grade\t= lt9\t\n",
    "2\t9-11th grade (Includes 12th grade with no diploma) = x9_11\n",
    "3\tHigh school graduate/GED or equivalent = HS\n",
    "4\tSome college or AA degree = SomeCollege\n",
    "5\tCollege graduate or above = College\n",
    "7\tRefused = NA\n",
    "9\tDon't Know = NA\n",
    ".\tMissing\n",
    "'''\n",
    "\n",
    "# Create a labeled version of the educational attainment variable\n",
    "da[\"DMDEDUC2x\"] = da.DMDEDUC2.replace({1: \"lt9\", 2: \"x9_11\", 3: \"HS\", 4: \"SomeCollege\", 5: \"College\", 7: np.nan, 9: np.nan})\n",
    "\n",
    "model6 = sm.GLM.from_formula(\"smq ~ RIDAGEYR + RIAGENDRx + DMDEDUC2x\", family=sm.families.Binomial(), data=da)\n",
    "resultGLM3 = model6.fit()\n",
    "resultGLM3.summary()"
   ]
  },
  {
   "cell_type": "markdown",
   "metadata": {},
   "source": [
    "We see that the \"Female\" level of the gender variable, and the \"College\" level of the educational attainment variable are the reference levels, as they are not shown in the output above. All non-reference coefficients for the educational attainment are positive, while the `College` coefficient, as the reference coefficient, is exactly zero.  \n",
    "\n",
    "Thus, we see that people with a college degree have the lowest rate of smoking, followed by people with less than 9 years of schooling (lt9), then (after a large gap) people with some college, then people with a high school degree (HS), and finally (with the greatest rate of smoking), people with 9-11 years of schooling (x9_11).\n",
    "\n",
    "The overall story here is that smoking rates are much lower for people who graduated from college or did not start high school, presumably for very different reasons.  On the other hand, people with some high school, people who completed high school, and people who began but did not complete college have much higher rates of smoking. "
   ]
  },
  {
   "cell_type": "markdown",
   "metadata": {},
   "source": [
    "###"
   ]
  }
 ],
 "metadata": {
  "kernelspec": {
   "display_name": "Python 3.7.7 64-bit",
   "language": "python",
   "name": "python3"
  },
  "language_info": {
   "codemirror_mode": {
    "name": "ipython",
    "version": 3
   },
   "file_extension": ".py",
   "mimetype": "text/x-python",
   "name": "python",
   "nbconvert_exporter": "python",
   "pygments_lexer": "ipython3",
   "version": "3.7.7"
  },
  "orig_nbformat": 4,
  "vscode": {
   "interpreter": {
    "hash": "a3e22d42784bfdb4355de868d6aabede92198c90d555a8ec7582f329ce1bb57e"
   }
  }
 },
 "nbformat": 4,
 "nbformat_minor": 2
}
